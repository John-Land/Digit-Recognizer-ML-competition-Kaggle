{
 "cells": [
  {
   "cell_type": "markdown",
   "metadata": {},
   "source": [
    "# Part one: Digit Recognizer with traditional ML models\n",
    "\n",
    "The Digit Recognizer challenge on Kaggle is a computer vision challenge where the goal is to classify images of hand written digits correctly.\n",
    "\n",
    "While working through this computer vision project, I will follow a slightly adjusted Machine Learning project check list from Aurelien Geron's book \"Hands-On Machine Learning with Scikit_Learn, Keras & TensorFlow\". (Géron, Aurélien. Hands-On Machine Learning with Scikit-Learn, Keras, and TensorFlow (p. 35). O'Reilly Media. Kindle Edition.)\n",
    "\n",
    "1.\tLook at the big picture\n",
    "2.\tGet the data\n",
    "3.\tDiscover and visualize the data to gain insights\n",
    "4.\tPrepare the data for Machine Learning algorithms\n",
    "5.\tSelect, train and fine-tune models\n",
    "6.\tConclusion\n",
    "\n",
    "As with all coding posts, the full jupyter notebook can be found in my github repo below:\n",
    "\n",
    "<https://github.com/John-Land/Digit-Recognizer-ML-competition-Kaggle>\n",
    "\n",
    "In this first attempt we will use traditional Machine Learning algorithms to tackle the Digit Recognizer challenge. In part two below, we will use Deep Learning with tensorflow to try and improve on our results with a fully connected Neural Network and with a Convolutional Neural Network.\n",
    "\n",
    "Part two can be found under below links.\n",
    "\n",
    "Project page: <https://john-land.github.io/Digit-Recognizer-ML-competition-Kaggle-with-deep-learning-tensorflow>\n",
    "\n",
    "Github: <https://github.com/John-Land/Digit-Recognizer-ML-competition-Kaggle-with-deep-learning-tensorflow>"
   ]
  },
  {
   "cell_type": "markdown",
   "metadata": {},
   "source": [
    "## 1. Look at the big picture\n",
    "\n",
    "Before looking deeper into the dataset, it will first be helpful to understand how image features are represented as numbers. The Kaggle page has a good expiation in the data tab.\n",
    "\n",
    "The MNIST dataset we will be working on consist of 28 x 28 pixel grey-scale images (black and white images). Therefore one image consists of 28 x 28 = 784 pixels. Each pixel is considered a unique feature of an image, therefore each image in our dataset has 784 features. The values of each pixel range from 0 to 255 inclusive, with higher values indicating darker coloured pixels.\n",
    "\n",
    "Note that due to the fact that these images are grey-scale images, we have 28 x 28 x 1 = 784 pixels per image. If these were coloured RGB images, one image would have three difference values for each pixel (red, green and blue pixel intensity values), and the features space per image would be 28 X 28 X 3 pixels.\n"
   ]
  },
  {
   "cell_type": "markdown",
   "metadata": {},
   "source": [
    "## 2. Get the data\n",
    "\n",
    "The data is provided on the Kaggle challenge page. <https://www.kaggle.com/c/digit-recognizer/data>\n",
    "\n",
    "We will first import the data and check for any missing values and some basic information."
   ]
  },
  {
   "cell_type": "code",
   "execution_count": 26,
   "metadata": {},
   "outputs": [],
   "source": [
    "# linear algebra\n",
    "import numpy as np     \n",
    "\n",
    "# data processing\n",
    "import pandas as pd    \n",
    "\n",
    "#data visualization\n",
    "import matplotlib.pyplot as plt "
   ]
  },
  {
   "cell_type": "code",
   "execution_count": 27,
   "metadata": {},
   "outputs": [
    {
     "data": {
      "text/html": [
       "<div>\n",
       "<style scoped>\n",
       "    .dataframe tbody tr th:only-of-type {\n",
       "        vertical-align: middle;\n",
       "    }\n",
       "\n",
       "    .dataframe tbody tr th {\n",
       "        vertical-align: top;\n",
       "    }\n",
       "\n",
       "    .dataframe thead th {\n",
       "        text-align: right;\n",
       "    }\n",
       "</style>\n",
       "<table border=\"1\" class=\"dataframe\">\n",
       "  <thead>\n",
       "    <tr style=\"text-align: right;\">\n",
       "      <th></th>\n",
       "      <th>label</th>\n",
       "      <th>pixel0</th>\n",
       "      <th>pixel1</th>\n",
       "      <th>pixel2</th>\n",
       "      <th>pixel3</th>\n",
       "      <th>pixel4</th>\n",
       "      <th>pixel5</th>\n",
       "      <th>pixel6</th>\n",
       "      <th>pixel7</th>\n",
       "      <th>pixel8</th>\n",
       "      <th>...</th>\n",
       "      <th>pixel774</th>\n",
       "      <th>pixel775</th>\n",
       "      <th>pixel776</th>\n",
       "      <th>pixel777</th>\n",
       "      <th>pixel778</th>\n",
       "      <th>pixel779</th>\n",
       "      <th>pixel780</th>\n",
       "      <th>pixel781</th>\n",
       "      <th>pixel782</th>\n",
       "      <th>pixel783</th>\n",
       "    </tr>\n",
       "  </thead>\n",
       "  <tbody>\n",
       "    <tr>\n",
       "      <th>0</th>\n",
       "      <td>1</td>\n",
       "      <td>0</td>\n",
       "      <td>0</td>\n",
       "      <td>0</td>\n",
       "      <td>0</td>\n",
       "      <td>0</td>\n",
       "      <td>0</td>\n",
       "      <td>0</td>\n",
       "      <td>0</td>\n",
       "      <td>0</td>\n",
       "      <td>...</td>\n",
       "      <td>0</td>\n",
       "      <td>0</td>\n",
       "      <td>0</td>\n",
       "      <td>0</td>\n",
       "      <td>0</td>\n",
       "      <td>0</td>\n",
       "      <td>0</td>\n",
       "      <td>0</td>\n",
       "      <td>0</td>\n",
       "      <td>0</td>\n",
       "    </tr>\n",
       "    <tr>\n",
       "      <th>1</th>\n",
       "      <td>0</td>\n",
       "      <td>0</td>\n",
       "      <td>0</td>\n",
       "      <td>0</td>\n",
       "      <td>0</td>\n",
       "      <td>0</td>\n",
       "      <td>0</td>\n",
       "      <td>0</td>\n",
       "      <td>0</td>\n",
       "      <td>0</td>\n",
       "      <td>...</td>\n",
       "      <td>0</td>\n",
       "      <td>0</td>\n",
       "      <td>0</td>\n",
       "      <td>0</td>\n",
       "      <td>0</td>\n",
       "      <td>0</td>\n",
       "      <td>0</td>\n",
       "      <td>0</td>\n",
       "      <td>0</td>\n",
       "      <td>0</td>\n",
       "    </tr>\n",
       "    <tr>\n",
       "      <th>2</th>\n",
       "      <td>1</td>\n",
       "      <td>0</td>\n",
       "      <td>0</td>\n",
       "      <td>0</td>\n",
       "      <td>0</td>\n",
       "      <td>0</td>\n",
       "      <td>0</td>\n",
       "      <td>0</td>\n",
       "      <td>0</td>\n",
       "      <td>0</td>\n",
       "      <td>...</td>\n",
       "      <td>0</td>\n",
       "      <td>0</td>\n",
       "      <td>0</td>\n",
       "      <td>0</td>\n",
       "      <td>0</td>\n",
       "      <td>0</td>\n",
       "      <td>0</td>\n",
       "      <td>0</td>\n",
       "      <td>0</td>\n",
       "      <td>0</td>\n",
       "    </tr>\n",
       "  </tbody>\n",
       "</table>\n",
       "<p>3 rows × 785 columns</p>\n",
       "</div>"
      ],
      "text/plain": [
       "   label  pixel0  pixel1  pixel2  pixel3  pixel4  pixel5  pixel6  pixel7  \\\n",
       "0      1       0       0       0       0       0       0       0       0   \n",
       "1      0       0       0       0       0       0       0       0       0   \n",
       "2      1       0       0       0       0       0       0       0       0   \n",
       "\n",
       "   pixel8  ...  pixel774  pixel775  pixel776  pixel777  pixel778  pixel779  \\\n",
       "0       0  ...         0         0         0         0         0         0   \n",
       "1       0  ...         0         0         0         0         0         0   \n",
       "2       0  ...         0         0         0         0         0         0   \n",
       "\n",
       "   pixel780  pixel781  pixel782  pixel783  \n",
       "0         0         0         0         0  \n",
       "1         0         0         0         0  \n",
       "2         0         0         0         0  \n",
       "\n",
       "[3 rows x 785 columns]"
      ]
     },
     "execution_count": 27,
     "metadata": {},
     "output_type": "execute_result"
    }
   ],
   "source": [
    "training_data = pd.read_csv('train.csv')\n",
    "testing_data = pd.read_csv('test.csv')\n",
    "\n",
    "training_data.head(3)"
   ]
  },
  {
   "cell_type": "markdown",
   "metadata": {},
   "source": [
    "### 2.1. Data Structure"
   ]
  },
  {
   "cell_type": "code",
   "execution_count": 28,
   "metadata": {},
   "outputs": [
    {
     "data": {
      "text/plain": [
       "((42000, 785), (28000, 784))"
      ]
     },
     "execution_count": 28,
     "metadata": {},
     "output_type": "execute_result"
    }
   ],
   "source": [
    "training_data.shape, testing_data.shape"
   ]
  },
  {
   "cell_type": "markdown",
   "metadata": {},
   "source": [
    "Training data: 42000 rows and 785 columns -> Data on 42000 images, 784 pixel values and 1 label per image.\n",
    "\n",
    "Testing data: 28000 rows and 784 columns -> Data on 28000 images, 784 pixel values and no labels per image.\n",
    "\n",
    "Our predictions for the labels in the test set will be submitted to Kaggle later."
   ]
  },
  {
   "cell_type": "code",
   "execution_count": 29,
   "metadata": {},
   "outputs": [
    {
     "name": "stdout",
     "output_type": "stream",
     "text": [
      "Training Data missing values:\n"
     ]
    },
    {
     "data": {
      "text/plain": [
       "(None,\n",
       " label       0\n",
       " pixel0      0\n",
       " pixel1      0\n",
       " pixel2      0\n",
       " pixel3      0\n",
       "            ..\n",
       " pixel779    0\n",
       " pixel780    0\n",
       " pixel781    0\n",
       " pixel782    0\n",
       " pixel783    0\n",
       " Length: 785, dtype: int64)"
      ]
     },
     "execution_count": 29,
     "metadata": {},
     "output_type": "execute_result"
    }
   ],
   "source": [
    "print(\"Training Data missing values:\"), training_data.isna().sum()"
   ]
  },
  {
   "cell_type": "code",
   "execution_count": 30,
   "metadata": {},
   "outputs": [
    {
     "name": "stdout",
     "output_type": "stream",
     "text": [
      "Testing Data missing values:\n"
     ]
    },
    {
     "data": {
      "text/plain": [
       "(None,\n",
       " pixel0      0\n",
       " pixel1      0\n",
       " pixel2      0\n",
       " pixel3      0\n",
       " pixel4      0\n",
       "            ..\n",
       " pixel779    0\n",
       " pixel780    0\n",
       " pixel781    0\n",
       " pixel782    0\n",
       " pixel783    0\n",
       " Length: 784, dtype: int64)"
      ]
     },
     "execution_count": 30,
     "metadata": {},
     "output_type": "execute_result"
    }
   ],
   "source": [
    "print(\"Testing Data missing values:\"), testing_data.isna().sum()"
   ]
  },
  {
   "cell_type": "markdown",
   "metadata": {},
   "source": [
    "There are no missing values in the training and test set."
   ]
  },
  {
   "cell_type": "markdown",
   "metadata": {},
   "source": [
    "## 3. Discover and visualize the data to gain insights"
   ]
  },
  {
   "cell_type": "markdown",
   "metadata": {},
   "source": [
    "The MNIST dataset we will be working on consist of 28 x 28 pixel grey-scale images (black and white images). Each row in our data set consists of all 784 pixels of one image and the label of the image."
   ]
  },
  {
   "cell_type": "code",
   "execution_count": 52,
   "metadata": {},
   "outputs": [
    {
     "data": {
      "text/html": [
       "<div>\n",
       "<style scoped>\n",
       "    .dataframe tbody tr th:only-of-type {\n",
       "        vertical-align: middle;\n",
       "    }\n",
       "\n",
       "    .dataframe tbody tr th {\n",
       "        vertical-align: top;\n",
       "    }\n",
       "\n",
       "    .dataframe thead th {\n",
       "        text-align: right;\n",
       "    }\n",
       "</style>\n",
       "<table border=\"1\" class=\"dataframe\">\n",
       "  <thead>\n",
       "    <tr style=\"text-align: right;\">\n",
       "      <th></th>\n",
       "      <th>label</th>\n",
       "      <th>pixel0</th>\n",
       "      <th>pixel1</th>\n",
       "      <th>pixel2</th>\n",
       "      <th>pixel3</th>\n",
       "      <th>pixel4</th>\n",
       "      <th>pixel5</th>\n",
       "      <th>pixel6</th>\n",
       "      <th>pixel7</th>\n",
       "      <th>pixel8</th>\n",
       "      <th>...</th>\n",
       "      <th>pixel774</th>\n",
       "      <th>pixel775</th>\n",
       "      <th>pixel776</th>\n",
       "      <th>pixel777</th>\n",
       "      <th>pixel778</th>\n",
       "      <th>pixel779</th>\n",
       "      <th>pixel780</th>\n",
       "      <th>pixel781</th>\n",
       "      <th>pixel782</th>\n",
       "      <th>pixel783</th>\n",
       "    </tr>\n",
       "  </thead>\n",
       "  <tbody>\n",
       "    <tr>\n",
       "      <th>0</th>\n",
       "      <td>1</td>\n",
       "      <td>0</td>\n",
       "      <td>0</td>\n",
       "      <td>0</td>\n",
       "      <td>0</td>\n",
       "      <td>0</td>\n",
       "      <td>0</td>\n",
       "      <td>0</td>\n",
       "      <td>0</td>\n",
       "      <td>0</td>\n",
       "      <td>...</td>\n",
       "      <td>0</td>\n",
       "      <td>0</td>\n",
       "      <td>0</td>\n",
       "      <td>0</td>\n",
       "      <td>0</td>\n",
       "      <td>0</td>\n",
       "      <td>0</td>\n",
       "      <td>0</td>\n",
       "      <td>0</td>\n",
       "      <td>0</td>\n",
       "    </tr>\n",
       "    <tr>\n",
       "      <th>1</th>\n",
       "      <td>0</td>\n",
       "      <td>0</td>\n",
       "      <td>0</td>\n",
       "      <td>0</td>\n",
       "      <td>0</td>\n",
       "      <td>0</td>\n",
       "      <td>0</td>\n",
       "      <td>0</td>\n",
       "      <td>0</td>\n",
       "      <td>0</td>\n",
       "      <td>...</td>\n",
       "      <td>0</td>\n",
       "      <td>0</td>\n",
       "      <td>0</td>\n",
       "      <td>0</td>\n",
       "      <td>0</td>\n",
       "      <td>0</td>\n",
       "      <td>0</td>\n",
       "      <td>0</td>\n",
       "      <td>0</td>\n",
       "      <td>0</td>\n",
       "    </tr>\n",
       "    <tr>\n",
       "      <th>2</th>\n",
       "      <td>1</td>\n",
       "      <td>0</td>\n",
       "      <td>0</td>\n",
       "      <td>0</td>\n",
       "      <td>0</td>\n",
       "      <td>0</td>\n",
       "      <td>0</td>\n",
       "      <td>0</td>\n",
       "      <td>0</td>\n",
       "      <td>0</td>\n",
       "      <td>...</td>\n",
       "      <td>0</td>\n",
       "      <td>0</td>\n",
       "      <td>0</td>\n",
       "      <td>0</td>\n",
       "      <td>0</td>\n",
       "      <td>0</td>\n",
       "      <td>0</td>\n",
       "      <td>0</td>\n",
       "      <td>0</td>\n",
       "      <td>0</td>\n",
       "    </tr>\n",
       "  </tbody>\n",
       "</table>\n",
       "<p>3 rows × 785 columns</p>\n",
       "</div>"
      ],
      "text/plain": [
       "   label  pixel0  pixel1  pixel2  pixel3  pixel4  pixel5  pixel6  pixel7  \\\n",
       "0      1       0       0       0       0       0       0       0       0   \n",
       "1      0       0       0       0       0       0       0       0       0   \n",
       "2      1       0       0       0       0       0       0       0       0   \n",
       "\n",
       "   pixel8  ...  pixel774  pixel775  pixel776  pixel777  pixel778  pixel779  \\\n",
       "0       0  ...         0         0         0         0         0         0   \n",
       "1       0  ...         0         0         0         0         0         0   \n",
       "2       0  ...         0         0         0         0         0         0   \n",
       "\n",
       "   pixel780  pixel781  pixel782  pixel783  \n",
       "0         0         0         0         0  \n",
       "1         0         0         0         0  \n",
       "2         0         0         0         0  \n",
       "\n",
       "[3 rows x 785 columns]"
      ]
     },
     "execution_count": 52,
     "metadata": {},
     "output_type": "execute_result"
    }
   ],
   "source": [
    "training_data.head(3)"
   ]
  },
  {
   "cell_type": "markdown",
   "metadata": {},
   "source": [
    "The below code visualizes one individual image by first reshaping the row in the data table for the individual image back into its original 28x28x1 pixel matrix, and then visualizing the pixel matrix for the image with matplotlib."
   ]
  },
  {
   "cell_type": "code",
   "execution_count": 31,
   "metadata": {},
   "outputs": [
    {
     "name": "stdout",
     "output_type": "stream",
     "text": [
      "original image is a: 0\n"
     ]
    },
    {
     "data": {
      "image/png": "[encoded data removed]",
      "text/plain": [
       "<Figure size 432x288 with 1 Axes>"
      ]
     },
     "metadata": {
      "needs_background": "light"
     },
     "output_type": "display_data"
    }
   ],
   "source": [
    "photo_id = 1\n",
    "image_28_28 = np.array(training_data.iloc[photo_id, 1:]).reshape(28, 28)\n",
    "plt.imshow(image_28_28)\n",
    "print(\"original image is a:\", training_data.iloc[photo_id, 0])"
   ]
  },
  {
   "cell_type": "code",
   "execution_count": 32,
   "metadata": {},
   "outputs": [
    {
     "name": "stdout",
     "output_type": "stream",
     "text": [
      "original image is a: 7\n"
     ]
    },
    {
     "data": {
      "image/png": "[encoded data removed]",
      "text/plain": [
       "<Figure size 432x288 with 1 Axes>"
      ]
     },
     "metadata": {
      "needs_background": "light"
     },
     "output_type": "display_data"
    }
   ],
   "source": [
    "photo_id = 50\n",
    "image_28_28 = np.array(training_data.iloc[photo_id, 1:]).reshape(28, 28)\n",
    "plt.imshow(image_28_28)\n",
    "print(\"original image is a:\", training_data.iloc[photo_id, 0])"
   ]
  },
  {
   "cell_type": "code",
   "execution_count": 53,
   "metadata": {},
   "outputs": [
    {
     "data": {
      "text/html": [
       "<div>\n",
       "<style scoped>\n",
       "    .dataframe tbody tr th:only-of-type {\n",
       "        vertical-align: middle;\n",
       "    }\n",
       "\n",
       "    .dataframe tbody tr th {\n",
       "        vertical-align: top;\n",
       "    }\n",
       "\n",
       "    .dataframe thead th {\n",
       "        text-align: right;\n",
       "    }\n",
       "</style>\n",
       "<table border=\"1\" class=\"dataframe\">\n",
       "  <thead>\n",
       "    <tr style=\"text-align: right;\">\n",
       "      <th></th>\n",
       "      <th>pixel0</th>\n",
       "      <th>pixel1</th>\n",
       "      <th>pixel2</th>\n",
       "      <th>pixel3</th>\n",
       "      <th>pixel4</th>\n",
       "      <th>pixel5</th>\n",
       "      <th>pixel6</th>\n",
       "      <th>pixel7</th>\n",
       "      <th>pixel8</th>\n",
       "      <th>pixel9</th>\n",
       "      <th>...</th>\n",
       "      <th>pixel774</th>\n",
       "      <th>pixel775</th>\n",
       "      <th>pixel776</th>\n",
       "      <th>pixel777</th>\n",
       "      <th>pixel778</th>\n",
       "      <th>pixel779</th>\n",
       "      <th>pixel780</th>\n",
       "      <th>pixel781</th>\n",
       "      <th>pixel782</th>\n",
       "      <th>pixel783</th>\n",
       "    </tr>\n",
       "  </thead>\n",
       "  <tbody>\n",
       "    <tr>\n",
       "      <th>0</th>\n",
       "      <td>0</td>\n",
       "      <td>0</td>\n",
       "      <td>0</td>\n",
       "      <td>0</td>\n",
       "      <td>0</td>\n",
       "      <td>0</td>\n",
       "      <td>0</td>\n",
       "      <td>0</td>\n",
       "      <td>0</td>\n",
       "      <td>0</td>\n",
       "      <td>...</td>\n",
       "      <td>0</td>\n",
       "      <td>0</td>\n",
       "      <td>0</td>\n",
       "      <td>0</td>\n",
       "      <td>0</td>\n",
       "      <td>0</td>\n",
       "      <td>0</td>\n",
       "      <td>0</td>\n",
       "      <td>0</td>\n",
       "      <td>0</td>\n",
       "    </tr>\n",
       "    <tr>\n",
       "      <th>1</th>\n",
       "      <td>0</td>\n",
       "      <td>0</td>\n",
       "      <td>0</td>\n",
       "      <td>0</td>\n",
       "      <td>0</td>\n",
       "      <td>0</td>\n",
       "      <td>0</td>\n",
       "      <td>0</td>\n",
       "      <td>0</td>\n",
       "      <td>0</td>\n",
       "      <td>...</td>\n",
       "      <td>0</td>\n",
       "      <td>0</td>\n",
       "      <td>0</td>\n",
       "      <td>0</td>\n",
       "      <td>0</td>\n",
       "      <td>0</td>\n",
       "      <td>0</td>\n",
       "      <td>0</td>\n",
       "      <td>0</td>\n",
       "      <td>0</td>\n",
       "    </tr>\n",
       "    <tr>\n",
       "      <th>2</th>\n",
       "      <td>0</td>\n",
       "      <td>0</td>\n",
       "      <td>0</td>\n",
       "      <td>0</td>\n",
       "      <td>0</td>\n",
       "      <td>0</td>\n",
       "      <td>0</td>\n",
       "      <td>0</td>\n",
       "      <td>0</td>\n",
       "      <td>0</td>\n",
       "      <td>...</td>\n",
       "      <td>0</td>\n",
       "      <td>0</td>\n",
       "      <td>0</td>\n",
       "      <td>0</td>\n",
       "      <td>0</td>\n",
       "      <td>0</td>\n",
       "      <td>0</td>\n",
       "      <td>0</td>\n",
       "      <td>0</td>\n",
       "      <td>0</td>\n",
       "    </tr>\n",
       "  </tbody>\n",
       "</table>\n",
       "<p>3 rows × 784 columns</p>\n",
       "</div>"
      ],
      "text/plain": [
       "   pixel0  pixel1  pixel2  pixel3  pixel4  pixel5  pixel6  pixel7  pixel8  \\\n",
       "0       0       0       0       0       0       0       0       0       0   \n",
       "1       0       0       0       0       0       0       0       0       0   \n",
       "2       0       0       0       0       0       0       0       0       0   \n",
       "\n",
       "   pixel9  ...  pixel774  pixel775  pixel776  pixel777  pixel778  pixel779  \\\n",
       "0       0  ...         0         0         0         0         0         0   \n",
       "1       0  ...         0         0         0         0         0         0   \n",
       "2       0  ...         0         0         0         0         0         0   \n",
       "\n",
       "   pixel780  pixel781  pixel782  pixel783  \n",
       "0         0         0         0         0  \n",
       "1         0         0         0         0  \n",
       "2         0         0         0         0  \n",
       "\n",
       "[3 rows x 784 columns]"
      ]
     },
     "execution_count": 53,
     "metadata": {},
     "output_type": "execute_result"
    }
   ],
   "source": [
    "X_train = training_data.iloc[:, 1:]\n",
    "Y_train = training_data[['label']]\n",
    "X_test = testing_data\n",
    "X_train.head(3)"
   ]
  },
  {
   "cell_type": "code",
   "execution_count": 54,
   "metadata": {},
   "outputs": [
    {
     "data": {
      "text/html": [
       "<div>\n",
       "<style scoped>\n",
       "    .dataframe tbody tr th:only-of-type {\n",
       "        vertical-align: middle;\n",
       "    }\n",
       "\n",
       "    .dataframe tbody tr th {\n",
       "        vertical-align: top;\n",
       "    }\n",
       "\n",
       "    .dataframe thead th {\n",
       "        text-align: right;\n",
       "    }\n",
       "</style>\n",
       "<table border=\"1\" class=\"dataframe\">\n",
       "  <thead>\n",
       "    <tr style=\"text-align: right;\">\n",
       "      <th></th>\n",
       "      <th>label</th>\n",
       "    </tr>\n",
       "  </thead>\n",
       "  <tbody>\n",
       "    <tr>\n",
       "      <th>0</th>\n",
       "      <td>1</td>\n",
       "    </tr>\n",
       "    <tr>\n",
       "      <th>1</th>\n",
       "      <td>0</td>\n",
       "    </tr>\n",
       "    <tr>\n",
       "      <th>2</th>\n",
       "      <td>1</td>\n",
       "    </tr>\n",
       "  </tbody>\n",
       "</table>\n",
       "</div>"
      ],
      "text/plain": [
       "   label\n",
       "0      1\n",
       "1      0\n",
       "2      1"
      ]
     },
     "execution_count": 54,
     "metadata": {},
     "output_type": "execute_result"
    }
   ],
   "source": [
    "Y_train.head(3)"
   ]
  },
  {
   "cell_type": "markdown",
   "metadata": {},
   "source": [
    "## 4. Prepare the data for Machine Learning algorithms"
   ]
  },
  {
   "cell_type": "markdown",
   "metadata": {},
   "source": [
    "Before training our Machine learning algorithms we will do three pre-processing steps.\n",
    "\n",
    "1.\tThe data will be scaled with the MinMaxScaler so all features fall in a range between 0 and 1.\n",
    "2.\tWe will use PCA to reduce the feature space considerable, but still keeping 95% of the variance in the data, ensuring that not too much information is lost while reducing the feature space. This reduction in feature space will help reduce training time later.\n",
    "3.\tAfter PCA, we will use the StandardScaler to ensure that all new features from PCA have mean 0 and standard deviation 1.\n"
   ]
  },
  {
   "cell_type": "code",
   "execution_count": 55,
   "metadata": {},
   "outputs": [],
   "source": [
    "from sklearn.preprocessing import MinMaxScaler\n",
    "\n",
    "#fit standard scaler to training set\n",
    "scaler = MinMaxScaler().fit(X_train)\n",
    "\n",
    "#transform training set\n",
    "X_train_norm = pd.DataFrame(scaler.transform(X_train), columns = X_train.columns)\n",
    "\n",
    "#transform test set\n",
    "X_test_norm = pd.DataFrame(scaler.transform(X_test), columns = X_test.columns)"
   ]
  },
  {
   "cell_type": "code",
   "execution_count": 56,
   "metadata": {},
   "outputs": [
    {
     "data": {
      "text/html": [
       "<div>\n",
       "<style scoped>\n",
       "    .dataframe tbody tr th:only-of-type {\n",
       "        vertical-align: middle;\n",
       "    }\n",
       "\n",
       "    .dataframe tbody tr th {\n",
       "        vertical-align: top;\n",
       "    }\n",
       "\n",
       "    .dataframe thead th {\n",
       "        text-align: right;\n",
       "    }\n",
       "</style>\n",
       "<table border=\"1\" class=\"dataframe\">\n",
       "  <thead>\n",
       "    <tr style=\"text-align: right;\">\n",
       "      <th></th>\n",
       "      <th>0</th>\n",
       "      <th>1</th>\n",
       "      <th>2</th>\n",
       "      <th>3</th>\n",
       "      <th>4</th>\n",
       "      <th>5</th>\n",
       "      <th>6</th>\n",
       "      <th>7</th>\n",
       "      <th>8</th>\n",
       "      <th>9</th>\n",
       "      <th>...</th>\n",
       "      <th>144</th>\n",
       "      <th>145</th>\n",
       "      <th>146</th>\n",
       "      <th>147</th>\n",
       "      <th>148</th>\n",
       "      <th>149</th>\n",
       "      <th>150</th>\n",
       "      <th>151</th>\n",
       "      <th>152</th>\n",
       "      <th>153</th>\n",
       "    </tr>\n",
       "  </thead>\n",
       "  <tbody>\n",
       "    <tr>\n",
       "      <th>0</th>\n",
       "      <td>-2.594493</td>\n",
       "      <td>-2.742397</td>\n",
       "      <td>0.718753</td>\n",
       "      <td>0.472985</td>\n",
       "      <td>-0.317968</td>\n",
       "      <td>1.919458</td>\n",
       "      <td>-2.680278</td>\n",
       "      <td>0.335527</td>\n",
       "      <td>1.366855</td>\n",
       "      <td>0.795994</td>\n",
       "      <td>...</td>\n",
       "      <td>-0.067206</td>\n",
       "      <td>-0.228756</td>\n",
       "      <td>0.062035</td>\n",
       "      <td>-0.036426</td>\n",
       "      <td>-0.072468</td>\n",
       "      <td>-0.072641</td>\n",
       "      <td>-0.022245</td>\n",
       "      <td>-0.132045</td>\n",
       "      <td>-0.213704</td>\n",
       "      <td>-0.038427</td>\n",
       "    </tr>\n",
       "    <tr>\n",
       "      <th>1</th>\n",
       "      <td>6.672360</td>\n",
       "      <td>-1.413927</td>\n",
       "      <td>-1.967865</td>\n",
       "      <td>1.315386</td>\n",
       "      <td>-1.734820</td>\n",
       "      <td>2.895702</td>\n",
       "      <td>2.564217</td>\n",
       "      <td>-0.692553</td>\n",
       "      <td>-0.029491</td>\n",
       "      <td>0.266064</td>\n",
       "      <td>...</td>\n",
       "      <td>-0.170333</td>\n",
       "      <td>-0.142983</td>\n",
       "      <td>0.160735</td>\n",
       "      <td>-0.041835</td>\n",
       "      <td>0.259718</td>\n",
       "      <td>0.126622</td>\n",
       "      <td>0.042587</td>\n",
       "      <td>-0.072806</td>\n",
       "      <td>0.046261</td>\n",
       "      <td>0.160544</td>\n",
       "    </tr>\n",
       "    <tr>\n",
       "      <th>2</th>\n",
       "      <td>-3.478017</td>\n",
       "      <td>-1.152023</td>\n",
       "      <td>0.263354</td>\n",
       "      <td>0.306917</td>\n",
       "      <td>-1.857709</td>\n",
       "      <td>-1.268787</td>\n",
       "      <td>1.716859</td>\n",
       "      <td>-1.197560</td>\n",
       "      <td>-0.765865</td>\n",
       "      <td>-0.100494</td>\n",
       "      <td>...</td>\n",
       "      <td>-0.054321</td>\n",
       "      <td>0.147798</td>\n",
       "      <td>0.115108</td>\n",
       "      <td>-0.050983</td>\n",
       "      <td>-0.236928</td>\n",
       "      <td>0.021208</td>\n",
       "      <td>0.044639</td>\n",
       "      <td>0.051697</td>\n",
       "      <td>-0.053665</td>\n",
       "      <td>0.080733</td>\n",
       "    </tr>\n",
       "    <tr>\n",
       "      <th>3</th>\n",
       "      <td>-0.650022</td>\n",
       "      <td>1.177187</td>\n",
       "      <td>-0.251551</td>\n",
       "      <td>2.979240</td>\n",
       "      <td>-1.669978</td>\n",
       "      <td>0.617218</td>\n",
       "      <td>-1.192546</td>\n",
       "      <td>1.083957</td>\n",
       "      <td>-0.179872</td>\n",
       "      <td>-1.158735</td>\n",
       "      <td>...</td>\n",
       "      <td>-0.018113</td>\n",
       "      <td>0.267320</td>\n",
       "      <td>0.372053</td>\n",
       "      <td>-0.061314</td>\n",
       "      <td>-0.377481</td>\n",
       "      <td>0.186922</td>\n",
       "      <td>-0.163961</td>\n",
       "      <td>-0.041613</td>\n",
       "      <td>-0.080466</td>\n",
       "      <td>0.046466</td>\n",
       "    </tr>\n",
       "    <tr>\n",
       "      <th>4</th>\n",
       "      <td>7.543960</td>\n",
       "      <td>-1.761384</td>\n",
       "      <td>-2.151424</td>\n",
       "      <td>0.739431</td>\n",
       "      <td>-2.555829</td>\n",
       "      <td>3.882603</td>\n",
       "      <td>2.213753</td>\n",
       "      <td>-1.003590</td>\n",
       "      <td>0.489861</td>\n",
       "      <td>0.696341</td>\n",
       "      <td>...</td>\n",
       "      <td>0.199446</td>\n",
       "      <td>0.042179</td>\n",
       "      <td>0.039327</td>\n",
       "      <td>0.088611</td>\n",
       "      <td>0.384118</td>\n",
       "      <td>-0.297355</td>\n",
       "      <td>0.003738</td>\n",
       "      <td>0.197964</td>\n",
       "      <td>-0.175501</td>\n",
       "      <td>-0.041155</td>\n",
       "    </tr>\n",
       "  </tbody>\n",
       "</table>\n",
       "<p>5 rows × 154 columns</p>\n",
       "</div>"
      ],
      "text/plain": [
       "        0         1         2         3         4         5         6    \\\n",
       "0 -2.594493 -2.742397  0.718753  0.472985 -0.317968  1.919458 -2.680278   \n",
       "1  6.672360 -1.413927 -1.967865  1.315386 -1.734820  2.895702  2.564217   \n",
       "2 -3.478017 -1.152023  0.263354  0.306917 -1.857709 -1.268787  1.716859   \n",
       "3 -0.650022  1.177187 -0.251551  2.979240 -1.669978  0.617218 -1.192546   \n",
       "4  7.543960 -1.761384 -2.151424  0.739431 -2.555829  3.882603  2.213753   \n",
       "\n",
       "        7         8         9    ...       144       145       146       147  \\\n",
       "0  0.335527  1.366855  0.795994  ... -0.067206 -0.228756  0.062035 -0.036426   \n",
       "1 -0.692553 -0.029491  0.266064  ... -0.170333 -0.142983  0.160735 -0.041835   \n",
       "2 -1.197560 -0.765865 -0.100494  ... -0.054321  0.147798  0.115108 -0.050983   \n",
       "3  1.083957 -0.179872 -1.158735  ... -0.018113  0.267320  0.372053 -0.061314   \n",
       "4 -1.003590  0.489861  0.696341  ...  0.199446  0.042179  0.039327  0.088611   \n",
       "\n",
       "        148       149       150       151       152       153  \n",
       "0 -0.072468 -0.072641 -0.022245 -0.132045 -0.213704 -0.038427  \n",
       "1  0.259718  0.126622  0.042587 -0.072806  0.046261  0.160544  \n",
       "2 -0.236928  0.021208  0.044639  0.051697 -0.053665  0.080733  \n",
       "3 -0.377481  0.186922 -0.163961 -0.041613 -0.080466  0.046466  \n",
       "4  0.384118 -0.297355  0.003738  0.197964 -0.175501 -0.041155  \n",
       "\n",
       "[5 rows x 154 columns]"
      ]
     },
     "execution_count": 56,
     "metadata": {},
     "output_type": "execute_result"
    }
   ],
   "source": [
    "from sklearn.decomposition import PCA\n",
    "\n",
    "pca = PCA(n_components=0.95,svd_solver = 'full').fit(X_train_norm)\n",
    "X_train_reduced = pd.DataFrame(pca.transform(X_train_norm))\n",
    "X_test_reduced = pd.DataFrame(pca.transform(X_test_norm))\n",
    "X_train_reduced.head(5)"
   ]
  },
  {
   "cell_type": "code",
   "execution_count": 57,
   "metadata": {},
   "outputs": [
    {
     "data": {
      "text/plain": [
       "(42000, 154)"
      ]
     },
     "execution_count": 57,
     "metadata": {},
     "output_type": "execute_result"
    }
   ],
   "source": [
    "X_train_reduced.shape"
   ]
  },
  {
   "cell_type": "markdown",
   "metadata": {},
   "source": [
    "PCA has reduced the feature space from 784 to 154 features, but still retained 95% of the variance and therefore most of the information in the data."
   ]
  },
  {
   "cell_type": "code",
   "execution_count": 58,
   "metadata": {},
   "outputs": [],
   "source": [
    "from sklearn.preprocessing import StandardScaler\n",
    "\n",
    "#fit standard scaler to training set\n",
    "scaler = StandardScaler().fit(X_train_reduced)\n",
    "\n",
    "#transform training set\n",
    "X_train = pd.DataFrame(scaler.transform(X_train_reduced), columns = X_train_reduced.columns)\n",
    "\n",
    "#transform test set\n",
    "X_test = pd.DataFrame(scaler.transform(X_test_reduced), columns = X_test_reduced.columns)"
   ]
  },
  {
   "cell_type": "code",
   "execution_count": 59,
   "metadata": {},
   "outputs": [
    {
     "data": {
      "text/html": [
       "<div>\n",
       "<style scoped>\n",
       "    .dataframe tbody tr th:only-of-type {\n",
       "        vertical-align: middle;\n",
       "    }\n",
       "\n",
       "    .dataframe tbody tr th {\n",
       "        vertical-align: top;\n",
       "    }\n",
       "\n",
       "    .dataframe thead th {\n",
       "        text-align: right;\n",
       "    }\n",
       "</style>\n",
       "<table border=\"1\" class=\"dataframe\">\n",
       "  <thead>\n",
       "    <tr style=\"text-align: right;\">\n",
       "      <th></th>\n",
       "      <th>0</th>\n",
       "      <th>1</th>\n",
       "      <th>2</th>\n",
       "      <th>3</th>\n",
       "      <th>4</th>\n",
       "      <th>5</th>\n",
       "      <th>6</th>\n",
       "      <th>7</th>\n",
       "      <th>8</th>\n",
       "      <th>9</th>\n",
       "      <th>...</th>\n",
       "      <th>144</th>\n",
       "      <th>145</th>\n",
       "      <th>146</th>\n",
       "      <th>147</th>\n",
       "      <th>148</th>\n",
       "      <th>149</th>\n",
       "      <th>150</th>\n",
       "      <th>151</th>\n",
       "      <th>152</th>\n",
       "      <th>153</th>\n",
       "    </tr>\n",
       "  </thead>\n",
       "  <tbody>\n",
       "    <tr>\n",
       "      <th>count</th>\n",
       "      <td>42000.0</td>\n",
       "      <td>42000.0</td>\n",
       "      <td>42000.0</td>\n",
       "      <td>42000.0</td>\n",
       "      <td>42000.0</td>\n",
       "      <td>42000.0</td>\n",
       "      <td>42000.0</td>\n",
       "      <td>42000.0</td>\n",
       "      <td>42000.0</td>\n",
       "      <td>42000.0</td>\n",
       "      <td>...</td>\n",
       "      <td>42000.0</td>\n",
       "      <td>42000.0</td>\n",
       "      <td>42000.0</td>\n",
       "      <td>42000.0</td>\n",
       "      <td>42000.0</td>\n",
       "      <td>42000.0</td>\n",
       "      <td>42000.0</td>\n",
       "      <td>42000.0</td>\n",
       "      <td>42000.0</td>\n",
       "      <td>42000.0</td>\n",
       "    </tr>\n",
       "    <tr>\n",
       "      <th>mean</th>\n",
       "      <td>-0.0</td>\n",
       "      <td>0.0</td>\n",
       "      <td>0.0</td>\n",
       "      <td>0.0</td>\n",
       "      <td>-0.0</td>\n",
       "      <td>0.0</td>\n",
       "      <td>0.0</td>\n",
       "      <td>-0.0</td>\n",
       "      <td>0.0</td>\n",
       "      <td>-0.0</td>\n",
       "      <td>...</td>\n",
       "      <td>0.0</td>\n",
       "      <td>-0.0</td>\n",
       "      <td>-0.0</td>\n",
       "      <td>-0.0</td>\n",
       "      <td>0.0</td>\n",
       "      <td>0.0</td>\n",
       "      <td>-0.0</td>\n",
       "      <td>0.0</td>\n",
       "      <td>-0.0</td>\n",
       "      <td>0.0</td>\n",
       "    </tr>\n",
       "    <tr>\n",
       "      <th>std</th>\n",
       "      <td>1.0</td>\n",
       "      <td>1.0</td>\n",
       "      <td>1.0</td>\n",
       "      <td>1.0</td>\n",
       "      <td>1.0</td>\n",
       "      <td>1.0</td>\n",
       "      <td>1.0</td>\n",
       "      <td>1.0</td>\n",
       "      <td>1.0</td>\n",
       "      <td>1.0</td>\n",
       "      <td>...</td>\n",
       "      <td>1.0</td>\n",
       "      <td>1.0</td>\n",
       "      <td>1.0</td>\n",
       "      <td>1.0</td>\n",
       "      <td>1.0</td>\n",
       "      <td>1.0</td>\n",
       "      <td>1.0</td>\n",
       "      <td>1.0</td>\n",
       "      <td>1.0</td>\n",
       "      <td>1.0</td>\n",
       "    </tr>\n",
       "    <tr>\n",
       "      <th>min</th>\n",
       "      <td>-1.9</td>\n",
       "      <td>-2.9</td>\n",
       "      <td>-3.1</td>\n",
       "      <td>-3.5</td>\n",
       "      <td>-3.1</td>\n",
       "      <td>-3.2</td>\n",
       "      <td>-3.3</td>\n",
       "      <td>-3.4</td>\n",
       "      <td>-3.5</td>\n",
       "      <td>-3.6</td>\n",
       "      <td>...</td>\n",
       "      <td>-4.0</td>\n",
       "      <td>-4.6</td>\n",
       "      <td>-4.8</td>\n",
       "      <td>-5.1</td>\n",
       "      <td>-4.8</td>\n",
       "      <td>-4.4</td>\n",
       "      <td>-4.7</td>\n",
       "      <td>-4.4</td>\n",
       "      <td>-4.6</td>\n",
       "      <td>-4.5</td>\n",
       "    </tr>\n",
       "    <tr>\n",
       "      <th>25%</th>\n",
       "      <td>-0.7</td>\n",
       "      <td>-0.7</td>\n",
       "      <td>-0.7</td>\n",
       "      <td>-0.7</td>\n",
       "      <td>-0.7</td>\n",
       "      <td>-0.7</td>\n",
       "      <td>-0.7</td>\n",
       "      <td>-0.7</td>\n",
       "      <td>-0.7</td>\n",
       "      <td>-0.6</td>\n",
       "      <td>...</td>\n",
       "      <td>-0.7</td>\n",
       "      <td>-0.6</td>\n",
       "      <td>-0.6</td>\n",
       "      <td>-0.6</td>\n",
       "      <td>-0.6</td>\n",
       "      <td>-0.6</td>\n",
       "      <td>-0.6</td>\n",
       "      <td>-0.7</td>\n",
       "      <td>-0.6</td>\n",
       "      <td>-0.6</td>\n",
       "    </tr>\n",
       "    <tr>\n",
       "      <th>50%</th>\n",
       "      <td>-0.1</td>\n",
       "      <td>-0.2</td>\n",
       "      <td>0.0</td>\n",
       "      <td>0.0</td>\n",
       "      <td>0.0</td>\n",
       "      <td>0.0</td>\n",
       "      <td>-0.0</td>\n",
       "      <td>-0.1</td>\n",
       "      <td>-0.1</td>\n",
       "      <td>0.0</td>\n",
       "      <td>...</td>\n",
       "      <td>-0.0</td>\n",
       "      <td>-0.0</td>\n",
       "      <td>-0.0</td>\n",
       "      <td>0.0</td>\n",
       "      <td>0.0</td>\n",
       "      <td>0.0</td>\n",
       "      <td>-0.0</td>\n",
       "      <td>0.0</td>\n",
       "      <td>-0.0</td>\n",
       "      <td>0.0</td>\n",
       "    </tr>\n",
       "    <tr>\n",
       "      <th>75%</th>\n",
       "      <td>0.6</td>\n",
       "      <td>0.8</td>\n",
       "      <td>0.7</td>\n",
       "      <td>0.6</td>\n",
       "      <td>0.7</td>\n",
       "      <td>0.7</td>\n",
       "      <td>0.7</td>\n",
       "      <td>0.6</td>\n",
       "      <td>0.7</td>\n",
       "      <td>0.7</td>\n",
       "      <td>...</td>\n",
       "      <td>0.6</td>\n",
       "      <td>0.6</td>\n",
       "      <td>0.6</td>\n",
       "      <td>0.6</td>\n",
       "      <td>0.6</td>\n",
       "      <td>0.7</td>\n",
       "      <td>0.6</td>\n",
       "      <td>0.7</td>\n",
       "      <td>0.6</td>\n",
       "      <td>0.6</td>\n",
       "    </tr>\n",
       "    <tr>\n",
       "      <th>max</th>\n",
       "      <td>4.1</td>\n",
       "      <td>3.0</td>\n",
       "      <td>3.2</td>\n",
       "      <td>3.6</td>\n",
       "      <td>3.3</td>\n",
       "      <td>3.3</td>\n",
       "      <td>3.8</td>\n",
       "      <td>3.8</td>\n",
       "      <td>4.9</td>\n",
       "      <td>3.6</td>\n",
       "      <td>...</td>\n",
       "      <td>4.7</td>\n",
       "      <td>5.4</td>\n",
       "      <td>5.1</td>\n",
       "      <td>5.5</td>\n",
       "      <td>5.5</td>\n",
       "      <td>4.4</td>\n",
       "      <td>5.5</td>\n",
       "      <td>4.7</td>\n",
       "      <td>4.6</td>\n",
       "      <td>5.1</td>\n",
       "    </tr>\n",
       "  </tbody>\n",
       "</table>\n",
       "<p>8 rows × 154 columns</p>\n",
       "</div>"
      ],
      "text/plain": [
       "           0        1        2        3        4        5        6        7    \\\n",
       "count  42000.0  42000.0  42000.0  42000.0  42000.0  42000.0  42000.0  42000.0   \n",
       "mean      -0.0      0.0      0.0      0.0     -0.0      0.0      0.0     -0.0   \n",
       "std        1.0      1.0      1.0      1.0      1.0      1.0      1.0      1.0   \n",
       "min       -1.9     -2.9     -3.1     -3.5     -3.1     -3.2     -3.3     -3.4   \n",
       "25%       -0.7     -0.7     -0.7     -0.7     -0.7     -0.7     -0.7     -0.7   \n",
       "50%       -0.1     -0.2      0.0      0.0      0.0      0.0     -0.0     -0.1   \n",
       "75%        0.6      0.8      0.7      0.6      0.7      0.7      0.7      0.6   \n",
       "max        4.1      3.0      3.2      3.6      3.3      3.3      3.8      3.8   \n",
       "\n",
       "           8        9    ...      144      145      146      147      148  \\\n",
       "count  42000.0  42000.0  ...  42000.0  42000.0  42000.0  42000.0  42000.0   \n",
       "mean       0.0     -0.0  ...      0.0     -0.0     -0.0     -0.0      0.0   \n",
       "std        1.0      1.0  ...      1.0      1.0      1.0      1.0      1.0   \n",
       "min       -3.5     -3.6  ...     -4.0     -4.6     -4.8     -5.1     -4.8   \n",
       "25%       -0.7     -0.6  ...     -0.7     -0.6     -0.6     -0.6     -0.6   \n",
       "50%       -0.1      0.0  ...     -0.0     -0.0     -0.0      0.0      0.0   \n",
       "75%        0.7      0.7  ...      0.6      0.6      0.6      0.6      0.6   \n",
       "max        4.9      3.6  ...      4.7      5.4      5.1      5.5      5.5   \n",
       "\n",
       "           149      150      151      152      153  \n",
       "count  42000.0  42000.0  42000.0  42000.0  42000.0  \n",
       "mean       0.0     -0.0      0.0     -0.0      0.0  \n",
       "std        1.0      1.0      1.0      1.0      1.0  \n",
       "min       -4.4     -4.7     -4.4     -4.6     -4.5  \n",
       "25%       -0.6     -0.6     -0.7     -0.6     -0.6  \n",
       "50%        0.0     -0.0      0.0     -0.0      0.0  \n",
       "75%        0.7      0.6      0.7      0.6      0.6  \n",
       "max        4.4      5.5      4.7      4.6      5.1  \n",
       "\n",
       "[8 rows x 154 columns]"
      ]
     },
     "execution_count": 59,
     "metadata": {},
     "output_type": "execute_result"
    }
   ],
   "source": [
    "X_train.describe().round(1)"
   ]
  },
  {
   "cell_type": "markdown",
   "metadata": {},
   "source": [
    "### 5. Select, train and fine-tune models"
   ]
  },
  {
   "cell_type": "markdown",
   "metadata": {},
   "source": [
    "Now it's finally time to train our machine learning models.\n",
    "As this is a classification task, we will take into considering below models.\n",
    "1. Naive Bayes\n",
    "2. LDA\n",
    "3. QDA\n",
    "4. Logistic Regression\n",
    "5. Decision Tree\n",
    "6. Ensemble of models 1-5\n",
    "\n",
    "As we have no labels on the testing data, we will use the training data with 5 fold cross validation, to get an estimation of the out of sample accuracy. The model with the highest mean accuracy on all cross validation sets will be selected for prediction and submission to kaggle."
   ]
  },
  {
   "cell_type": "code",
   "execution_count": 60,
   "metadata": {},
   "outputs": [
    {
     "name": "stdout",
     "output_type": "stream",
     "text": [
      "training time in seconds: 0.28\n",
      "training time in minutes: 0.0\n",
      "Grid best score (accuracy):  0.112\n"
     ]
    }
   ],
   "source": [
    "from sklearn.dummy import DummyClassifier\n",
    "from sklearn.model_selection import cross_val_score\n",
    "import time\n",
    "\n",
    "start = time.process_time()\n",
    "\n",
    "clf_dummy = DummyClassifier(strategy = 'most_frequent')\n",
    "cv_score = cross_val_score(clf_dummy, X_train, Y_train, cv=5).round(3).mean()\n",
    "\n",
    "\n",
    "end = time.process_time()\n",
    "\n",
    "print('training time in seconds:', np.round(end - start,2))\n",
    "print('training time in minutes:', np.round((end - start)/60, 2))\n",
    "print('Grid best score (accuracy): ', cv_score.round(3))"
   ]
  },
  {
   "cell_type": "code",
   "execution_count": 90,
   "metadata": {},
   "outputs": [
    {
     "name": "stdout",
     "output_type": "stream",
     "text": [
      "training time in seconds: 2.86\n",
      "training time in minutes: 0.05\n",
      "Grid best score (accuracy):  0.857\n"
     ]
    }
   ],
   "source": [
    "from sklearn.naive_bayes import GaussianNB\n",
    "\n",
    "start = time.process_time()\n",
    "\n",
    "clf1 = GaussianNB()\n",
    "clf1.fit(X_train, Y_train.values.ravel());\n",
    "cv_score_clf1 = cross_val_score(clf1, X_train, Y_train.values.ravel(), cv=5).mean()\n",
    "\n",
    "end = time.process_time()\n",
    "\n",
    "print('training time in seconds:', np.round(end - start,2))\n",
    "print('training time in minutes:', np.round((end - start)/60, 2))\n",
    "print('Grid best score (accuracy): ', cv_score_clf1.round(3))"
   ]
  },
  {
   "cell_type": "code",
   "execution_count": 91,
   "metadata": {},
   "outputs": [
    {
     "name": "stdout",
     "output_type": "stream",
     "text": [
      "training time in seconds: 11.95\n",
      "training time in minutes: 0.2\n",
      "Grid best score (accuracy):  0.869\n"
     ]
    }
   ],
   "source": [
    "from sklearn.discriminant_analysis import LinearDiscriminantAnalysis\n",
    "\n",
    "start = time.process_time()\n",
    "\n",
    "clf2 = LinearDiscriminantAnalysis()\n",
    "clf2.fit(X_train, Y_train.values.ravel());\n",
    "cv_score_clf2 = cross_val_score(clf2, X_train, Y_train.values.ravel(), cv=5).mean()\n",
    "\n",
    "end = time.process_time()\n",
    "\n",
    "print('training time in seconds:', np.round(end - start,2))\n",
    "print('training time in minutes:', np.round((end - start)/60, 2))\n",
    "print('Grid best score (accuracy): ', cv_score_clf2.round(3))"
   ]
  },
  {
   "cell_type": "code",
   "execution_count": 92,
   "metadata": {},
   "outputs": [
    {
     "name": "stdout",
     "output_type": "stream",
     "text": [
      "training time in seconds: 11.22\n",
      "training time in minutes: 0.19\n",
      "Grid best score (accuracy):  0.945\n"
     ]
    }
   ],
   "source": [
    "from sklearn.discriminant_analysis import QuadraticDiscriminantAnalysis\n",
    "\n",
    "start = time.process_time()\n",
    "\n",
    "clf3 = QuadraticDiscriminantAnalysis()\n",
    "clf3.fit(X_train, Y_train.values.ravel());\n",
    "cv_score_clf3 = cross_val_score(clf3, X_train, Y_train.values.ravel(), cv=5).mean().round(3)\n",
    "\n",
    "end = time.process_time()\n",
    "\n",
    "print('training time in seconds:', np.round(end - start,2))\n",
    "print('training time in minutes:', np.round((end - start)/60, 2))\n",
    "print('Grid best score (accuracy): ', cv_score_clf3.round(3))"
   ]
  },
  {
   "cell_type": "code",
   "execution_count": 64,
   "metadata": {},
   "outputs": [
    {
     "name": "stdout",
     "output_type": "stream",
     "text": [
      "training time in seconds: 453.69\n",
      "training time in minutes: 7.56\n",
      "Grid best parameter (max. accuracy):  {'C': 100}\n",
      "Grid best score (accuracy):  0.919\n"
     ]
    }
   ],
   "source": [
    "from sklearn.linear_model import LogisticRegression\n",
    "from sklearn.model_selection import GridSearchCV\n",
    "\n",
    "start = time.process_time()\n",
    "\n",
    "clf4 = LogisticRegression(max_iter = 10000)\n",
    "grid_values = {'C': [0.01, 0.1, 1, 10, 100]}\n",
    "\n",
    "# default metric to optimize over grid parameters: accuracy\n",
    "grid_clf4 = GridSearchCV(clf4, param_grid = grid_values, cv=5)\n",
    "grid_clf4.fit(X_train, Y_train.values.ravel());\n",
    "\n",
    "end = time.process_time()\n",
    "\n",
    "print('training time in seconds:', np.round(end - start,2))\n",
    "print('training time in minutes:', np.round((end - start)/60, 2))\n",
    "print('Grid best parameter (max. accuracy): ', grid_clf4.best_params_)\n",
    "print('Grid best score (accuracy): ', grid_clf4.best_score_.round(3))"
   ]
  },
  {
   "cell_type": "code",
   "execution_count": 65,
   "metadata": {},
   "outputs": [
    {
     "name": "stdout",
     "output_type": "stream",
     "text": [
      "training time in seconds: 260.5\n",
      "training time in minutes: 4.34\n",
      "Grid best parameter (max. accuracy):  {'max_depth': 15}\n",
      "Grid best score (accuracy):  0.821\n"
     ]
    }
   ],
   "source": [
    "from sklearn.tree import DecisionTreeClassifier\n",
    "\n",
    "start = time.process_time()\n",
    "\n",
    "clf5 = DecisionTreeClassifier()\n",
    "grid_values = {'max_depth': [11, 13, 15, 17]}\n",
    "\n",
    "# default metric to optimize over grid parameters: accuracy\n",
    "grid_clf5 = GridSearchCV(clf5, param_grid = grid_values, cv=5)\n",
    "grid_clf5.fit(X_train, Y_train.values.ravel())\n",
    "\n",
    "end = time.process_time()\n",
    "\n",
    "print('training time in seconds:', np.round(end - start,2))\n",
    "print('training time in minutes:', np.round((end - start)/60, 2))\n",
    "print('Grid best parameter (max. accuracy): ', grid_clf5.best_params_)\n",
    "print('Grid best score (accuracy): ', grid_clf5.best_score_.round(3))"
   ]
  },
  {
   "cell_type": "code",
   "execution_count": 66,
   "metadata": {},
   "outputs": [
    {
     "name": "stdout",
     "output_type": "stream",
     "text": [
      "training time in seconds: 4913.48\n",
      "training time in minutes: 81.89\n",
      "Grid best parameter (max. accuracy):  {'max_depth': 17, 'n_estimators': 150}\n",
      "Grid best score (accuracy):  0.941\n"
     ]
    }
   ],
   "source": [
    "from sklearn.ensemble import RandomForestClassifier\n",
    "\n",
    "start = time.process_time()\n",
    "\n",
    "\n",
    "clf6 = RandomForestClassifier()\n",
    "grid_values = {'max_depth': [11, 13, 15, 17], 'n_estimators': [75, 100, 125, 150]}\n",
    "\n",
    "# default metric to optimize over grid parameters: accuracy\n",
    "grid_clf6 = GridSearchCV(clf6, param_grid = grid_values, cv=5)\n",
    "grid_clf6.fit(X_train, Y_train.values.ravel())\n",
    "\n",
    "end = time.process_time()\n",
    "\n",
    "print('training time in seconds:', np.round(end - start,2))\n",
    "print('training time in minutes:', np.round((end - start)/60, 2))\n",
    "print('Grid best parameter (max. accuracy): ', grid_clf6.best_params_)\n",
    "print('Grid best score (accuracy): ', grid_clf6.best_score_.round(3))"
   ]
  },
  {
   "cell_type": "code",
   "execution_count": 67,
   "metadata": {},
   "outputs": [
    {
     "name": "stdout",
     "output_type": "stream",
     "text": [
      "training time in seconds: 494.3\n",
      "training time in minutes: 8.24\n",
      "Grid best score (accuracy):  0.94\n"
     ]
    }
   ],
   "source": [
    "from sklearn.ensemble import VotingClassifier\n",
    "\n",
    "start = time.process_time()\n",
    "\n",
    "eclf = VotingClassifier(estimators=[('GaussianNB', clf1),\n",
    "                                    ('lda', clf2), \n",
    "                                    ('qda', clf3), \n",
    "                                    ('lr', clf4), \n",
    "                                    ('tree', clf5), \n",
    "                                    ('rf', clf6)],\n",
    "                         voting='hard')\n",
    "    \n",
    "cv_score = cross_val_score(eclf, X_train, Y_train.values.ravel(), cv=5).mean().round(3)\n",
    "\n",
    "end = time.process_time()\n",
    "\n",
    "print('training time in seconds:', np.round(end - start,2))\n",
    "print('training time in minutes:', np.round((end - start)/60, 2))\n",
    "print('Grid best score (accuracy): ', cv_score.round(3))"
   ]
  },
  {
   "cell_type": "markdown",
   "metadata": {},
   "source": [
    "### 6. Conclusion"
   ]
  },
  {
   "cell_type": "markdown",
   "metadata": {},
   "source": [
    "Based on the average cross validation error from five-fold cross validation, we get the below accuracies for each model."
   ]
  },
  {
   "cell_type": "code",
   "execution_count": 69,
   "metadata": {},
   "outputs": [
    {
     "data": {
      "text/html": [
       "<div>\n",
       "<style scoped>\n",
       "    .dataframe tbody tr th:only-of-type {\n",
       "        vertical-align: middle;\n",
       "    }\n",
       "\n",
       "    .dataframe tbody tr th {\n",
       "        vertical-align: top;\n",
       "    }\n",
       "\n",
       "    .dataframe thead th {\n",
       "        text-align: right;\n",
       "    }\n",
       "</style>\n",
       "<table border=\"1\" class=\"dataframe\">\n",
       "  <thead>\n",
       "    <tr style=\"text-align: right;\">\n",
       "      <th></th>\n",
       "      <th>CV_Accuracy</th>\n",
       "    </tr>\n",
       "  </thead>\n",
       "  <tbody>\n",
       "    <tr>\n",
       "      <th>GaussianNB</th>\n",
       "      <td>0.857</td>\n",
       "    </tr>\n",
       "    <tr>\n",
       "      <th>LinearDiscriminantAnalysis</th>\n",
       "      <td>0.869</td>\n",
       "    </tr>\n",
       "    <tr>\n",
       "      <th>QuadraticDiscriminantAnalysis</th>\n",
       "      <td>0.945</td>\n",
       "    </tr>\n",
       "    <tr>\n",
       "      <th>LogisticRegression</th>\n",
       "      <td>0.919</td>\n",
       "    </tr>\n",
       "    <tr>\n",
       "      <th>DecisionTreeClassifier</th>\n",
       "      <td>0.821</td>\n",
       "    </tr>\n",
       "    <tr>\n",
       "      <th>RandomForestClassifier</th>\n",
       "      <td>0.941</td>\n",
       "    </tr>\n",
       "    <tr>\n",
       "      <th>VotingClassifier</th>\n",
       "      <td>0.940</td>\n",
       "    </tr>\n",
       "  </tbody>\n",
       "</table>\n",
       "</div>"
      ],
      "text/plain": [
       "                               CV_Accuracy\n",
       "GaussianNB                           0.857\n",
       "LinearDiscriminantAnalysis           0.869\n",
       "QuadraticDiscriminantAnalysis        0.945\n",
       "LogisticRegression                   0.919\n",
       "DecisionTreeClassifier               0.821\n",
       "RandomForestClassifier               0.941\n",
       "VotingClassifier                     0.940"
      ]
     },
     "execution_count": 69,
     "metadata": {},
     "output_type": "execute_result"
    }
   ],
   "source": [
    "classifiers = ['GaussianNB', \n",
    "               'LinearDiscriminantAnalysis',\n",
    "               'QuadraticDiscriminantAnalysis',\n",
    "               'LogisticRegression', \n",
    "               'DecisionTreeClassifier', \n",
    "               'RandomForestClassifier', \n",
    "               'VotingClassifier']\n",
    "\n",
    "scores = [cv_score_clf1.round(3), \n",
    "          cv_score_clf2.round(3), \n",
    "          cv_score_clf3.round(3), \n",
    "          grid_clf4.best_score_.round(3), \n",
    "          grid_clf5.best_score_.round(3), \n",
    "          grid_clf6.best_score_.round(3),\n",
    "          cv_score.round(3)]\n",
    "\n",
    "model_scores = pd.DataFrame(data= scores, columns = ['CV_Accuracy'], index = classifiers)\n",
    "model_scores"
   ]
  },
  {
   "cell_type": "markdown",
   "metadata": {},
   "source": [
    "Based on the highest cross validation accuracy of 94.45%, we will use the QuadraticDiscriminantAnalysis classifier to submit our predictions to Kaggle."
   ]
  },
  {
   "cell_type": "code",
   "execution_count": 95,
   "metadata": {},
   "outputs": [
    {
     "name": "stdout",
     "output_type": "stream",
     "text": [
      "Your submission was successfully saved!\n"
     ]
    }
   ],
   "source": [
    "predictions = clf3.predict(X_test)\n",
    "ImageId = np.array(range(1, X_test.shape[0]+1, 1))\n",
    "\n",
    "output = pd.DataFrame({'ImageId': ImageId, 'Label': predictions})\n",
    "output.to_csv('my_submission.csv', index=False)\n",
    "print(\"Your submission was successfully saved!\")"
   ]
  }
 ],
 "metadata": {
  "kernelspec": {
   "display_name": "Python 3",
   "language": "python",
   "name": "python3"
  },
  "language_info": {
   "codemirror_mode": {
    "name": "ipython",
    "version": 3
   },
   "file_extension": ".py",
   "mimetype": "text/x-python",
   "name": "python",
   "nbconvert_exporter": "python",
   "pygments_lexer": "ipython3",
   "version": "3.7.9"
  }
 },
 "nbformat": 4,
 "nbformat_minor": 4
}
